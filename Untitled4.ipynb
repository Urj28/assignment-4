{
 "cells": [
  {
   "cell_type": "code",
   "execution_count": 8,
   "metadata": {},
   "outputs": [
    {
     "ename": "IndentationError",
     "evalue": "unindent does not match any outer indentation level (<tokenize>, line 4)",
     "output_type": "error",
     "traceback": [
      "\u001b[1;36m  File \u001b[1;32m\"<tokenize>\"\u001b[1;36m, line \u001b[1;32m4\u001b[0m\n\u001b[1;33m    myName = input(\"your name\")\u001b[0m\n\u001b[1;37m    ^\u001b[0m\n\u001b[1;31mIndentationError\u001b[0m\u001b[1;31m:\u001b[0m unindent does not match any outer indentation level\n"
     ]
    }
   ],
   "source": [
    "import random\n",
    "   guessesTaken = 0\n",
    "     print('Hello! What is your name?')\n",
    "  myName = input(\"your name\")\n",
    "   number = random randint(1, 20);\n",
    "    print('Well, ' + myName + ', I am thinking of a number between 1 and 20.')\n",
    " while guessesTaken < 6:\n",
    "     print('Take a guess.') # There are four spaces in front of print.\n",
    "     guess = input()\n",
    "     guess = int(guess)\n",
    "     guessesTaken = guessesTaken + 1\n",
    "     if guess < number:\n",
    "        print('Your guess is too low.') # There are eight spaces in front of print.\n",
    "     if guess > number:\n",
    "         print('Your guess is too high.')\n",
    "     if guess == number:\n",
    "         break\n",
    " if guess == number:\n",
    "     guessesTaken = str(guessesTaken)\n",
    "        print('Good job, ' + myName + '! You guessed my number in ' + guessesTaken + ' guesses!')\n",
    " if guess != number:\n",
    "     number = str(number)\n",
    "        print('Nope. The number I was thinking of was ' + number)"
   ]
  },
  {
   "cell_type": "code",
   "execution_count": 12,
   "metadata": {},
   "outputs": [
    {
     "name": "stdout",
     "output_type": "stream",
     "text": [
      "Age:7\n",
      "The price will be 10$.\n"
     ]
    }
   ],
   "source": [
    "price = -1\n",
    "while price == -1:\n",
    "   try:\n",
    "       age=int(input('Age:'))\n",
    "   except ValueError:\n",
    "        print(\"Not a number, try again.\")\n",
    "        continue\n",
    "\n",
    "   if age <= 3:\n",
    "       price = 0\n",
    "   elif age > 3 and age < 12:\n",
    "       price = 10\n",
    "   else:\n",
    "       price = 15\n",
    "\n",
    "print(\"The price will be \"+str(price)+\"$.\")"
   ]
  },
  {
   "cell_type": "code",
   "execution_count": 13,
   "metadata": {},
   "outputs": [
    {
     "name": "stdout",
     "output_type": "stream",
     "text": [
      "Alice in the wonderland is one of my favorite books.\n"
     ]
    }
   ],
   "source": [
    "def favorite_book(title):\n",
    "    \"\"\"Display a message about someone's favorite book.\"\"\"\n",
    "    print(title + \" is one of my favorite books.\")\n",
    "\n",
    "favorite_book('Alice in the wonderland')"
   ]
  },
  {
   "cell_type": "code",
   "execution_count": null,
   "metadata": {},
   "outputs": [],
   "source": []
  }
 ],
 "metadata": {
  "kernelspec": {
   "display_name": "Python 3",
   "language": "python",
   "name": "python3"
  },
  "language_info": {
   "codemirror_mode": {
    "name": "ipython",
    "version": 3
   },
   "file_extension": ".py",
   "mimetype": "text/x-python",
   "name": "python",
   "nbconvert_exporter": "python",
   "pygments_lexer": "ipython3",
   "version": "3.7.4"
  }
 },
 "nbformat": 4,
 "nbformat_minor": 2
}
